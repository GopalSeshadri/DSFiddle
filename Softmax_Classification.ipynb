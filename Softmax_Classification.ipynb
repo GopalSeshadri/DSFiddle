{
  "nbformat": 4,
  "nbformat_minor": 0,
  "metadata": {
    "colab": {
      "name": "Softmax Classification.ipynb",
      "version": "0.3.2",
      "provenance": [],
      "collapsed_sections": []
    },
    "kernelspec": {
      "display_name": "Python 3",
      "language": "python",
      "name": "python3"
    }
  },
  "cells": [
    {
      "metadata": {
        "id": "bFuXppKQNbn_",
        "colab_type": "code",
        "colab": {}
      },
      "cell_type": "code",
      "source": [
        "import numpy as np\n",
        "import pandas as pd\n",
        "import matplotlib.pyplot as plt\n",
        "from keras.models import Sequential\n",
        "from keras.layers import Dense\n",
        "from keras.utils import to_categorical\n",
        "from keras.datasets import mnist"
      ],
      "execution_count": 0,
      "outputs": []
    },
    {
      "metadata": {
        "id": "ymb5lKTTNboD",
        "colab_type": "text"
      },
      "cell_type": "markdown",
      "source": [
        "## Loading Data"
      ]
    },
    {
      "metadata": {
        "id": "1E-JlMpUNboE",
        "colab_type": "code",
        "colab": {}
      },
      "cell_type": "code",
      "source": [
        "(X_train, y_train), (X_test, y_test) = mnist.load_data()"
      ],
      "execution_count": 0,
      "outputs": []
    },
    {
      "metadata": {
        "id": "xrc16U7INboG",
        "colab_type": "code",
        "outputId": "33816713-662e-44d9-e317-d001cae4b6b4",
        "colab": {
          "base_uri": "https://localhost:8080/",
          "height": 34
        }
      },
      "cell_type": "code",
      "source": [
        "X_train.shape"
      ],
      "execution_count": 53,
      "outputs": [
        {
          "output_type": "execute_result",
          "data": {
            "text/plain": [
              "(60000, 28, 28)"
            ]
          },
          "metadata": {
            "tags": []
          },
          "execution_count": 53
        }
      ]
    },
    {
      "metadata": {
        "id": "A_zvZM3DNboK",
        "colab_type": "code",
        "outputId": "0b6a5b08-9e4d-42c3-9eed-2e05c96a8c88",
        "colab": {
          "base_uri": "https://localhost:8080/",
          "height": 34
        }
      },
      "cell_type": "code",
      "source": [
        "X_test.shape"
      ],
      "execution_count": 54,
      "outputs": [
        {
          "output_type": "execute_result",
          "data": {
            "text/plain": [
              "(10000, 28, 28)"
            ]
          },
          "metadata": {
            "tags": []
          },
          "execution_count": 54
        }
      ]
    },
    {
      "metadata": {
        "id": "VFliE0sZNboO",
        "colab_type": "code",
        "colab": {}
      },
      "cell_type": "code",
      "source": [
        "input_size = X_train.shape[1] * X_test.shape[2]"
      ],
      "execution_count": 0,
      "outputs": []
    },
    {
      "metadata": {
        "id": "iBQb5nQgNboQ",
        "colab_type": "code",
        "colab": {}
      },
      "cell_type": "code",
      "source": [
        "X_train = X_train.reshape(X_train.shape[0], X_train.shape[1] * X_train.shape[2])\n",
        "X_test = X_test.reshape(X_test.shape[0], X_test.shape[1] * X_test.shape[2])"
      ],
      "execution_count": 0,
      "outputs": []
    },
    {
      "metadata": {
        "id": "3hMJV_9jNboT",
        "colab_type": "code",
        "colab": {}
      },
      "cell_type": "code",
      "source": [
        "X_train = X_train.astype('float32')\n",
        "X_test = X_test.astype('float32')"
      ],
      "execution_count": 0,
      "outputs": []
    },
    {
      "metadata": {
        "id": "T4uXMvp8NboW",
        "colab_type": "code",
        "colab": {}
      },
      "cell_type": "code",
      "source": [
        "X_train = X_train/255\n",
        "X_test = X_test/255"
      ],
      "execution_count": 0,
      "outputs": []
    },
    {
      "metadata": {
        "id": "4iu1IV4CNboZ",
        "colab_type": "code",
        "colab": {}
      },
      "cell_type": "code",
      "source": [
        "y_train = to_categorical(y_train)\n",
        "y_test = to_categorical(y_test)"
      ],
      "execution_count": 0,
      "outputs": []
    },
    {
      "metadata": {
        "id": "pr5jdN-9Nbob",
        "colab_type": "code",
        "colab": {}
      },
      "cell_type": "code",
      "source": [
        "categories = y_train.shape[1]"
      ],
      "execution_count": 0,
      "outputs": []
    },
    {
      "metadata": {
        "id": "eIBBdTI4Nboh",
        "colab_type": "text"
      },
      "cell_type": "markdown",
      "source": [
        "## Building Model "
      ]
    },
    {
      "metadata": {
        "id": "sXkcDqP9Nboi",
        "colab_type": "code",
        "colab": {}
      },
      "cell_type": "code",
      "source": [
        "def categoricalmodel():\n",
        "    model = Sequential()\n",
        "    \n",
        "    model.add(Dense(int(input_size/2), activation = 'relu', input_shape = (input_size, )))\n",
        "    model.add(Dense(int(input_size/4), activation = 'relu'))\n",
        "    model.add(Dense(int(input_size/8), activation = 'relu'))\n",
        "    model.add(Dense(categories, activation = 'softmax'))\n",
        "    \n",
        "    model.compile(optimizer = 'Adam', loss = 'categorical_crossentropy', metrics = ['accuracy'])\n",
        "    \n",
        "    return model"
      ],
      "execution_count": 0,
      "outputs": []
    },
    {
      "metadata": {
        "id": "Z6J6tTr4Nbok",
        "colab_type": "code",
        "colab": {}
      },
      "cell_type": "code",
      "source": [
        "model = categoricalmodel()"
      ],
      "execution_count": 0,
      "outputs": []
    },
    {
      "metadata": {
        "id": "zIJhiG1VNbom",
        "colab_type": "code",
        "outputId": "eaa88f8b-6e43-4fd6-f7d6-e88f658d56ae",
        "colab": {
          "base_uri": "https://localhost:8080/",
          "height": 386
        }
      },
      "cell_type": "code",
      "source": [
        "history = model.fit(x = X_train, y = y_train, validation_split = 0.2, epochs = 10, verbose = 1, shuffle = True)"
      ],
      "execution_count": 66,
      "outputs": [
        {
          "output_type": "stream",
          "text": [
            "Train on 48000 samples, validate on 12000 samples\n",
            "Epoch 1/10\n",
            "48000/48000 [==============================] - 16s 340us/step - loss: 0.2230 - acc: 0.9321 - val_loss: 0.1377 - val_acc: 0.9585\n",
            "Epoch 2/10\n",
            "48000/48000 [==============================] - 15s 312us/step - loss: 0.0946 - acc: 0.9708 - val_loss: 0.0933 - val_acc: 0.9728\n",
            "Epoch 3/10\n",
            "48000/48000 [==============================] - 16s 328us/step - loss: 0.0637 - acc: 0.9800 - val_loss: 0.1021 - val_acc: 0.9718\n",
            "Epoch 4/10\n",
            "48000/48000 [==============================] - 16s 329us/step - loss: 0.0506 - acc: 0.9846 - val_loss: 0.0963 - val_acc: 0.9758\n",
            "Epoch 5/10\n",
            "48000/48000 [==============================] - 16s 330us/step - loss: 0.0412 - acc: 0.9866 - val_loss: 0.0898 - val_acc: 0.9762\n",
            "Epoch 6/10\n",
            "48000/48000 [==============================] - 16s 327us/step - loss: 0.0346 - acc: 0.9886 - val_loss: 0.1091 - val_acc: 0.9723\n",
            "Epoch 7/10\n",
            "48000/48000 [==============================] - 15s 321us/step - loss: 0.0293 - acc: 0.9906 - val_loss: 0.0998 - val_acc: 0.9752\n",
            "Epoch 8/10\n",
            "48000/48000 [==============================] - 16s 327us/step - loss: 0.0239 - acc: 0.9927 - val_loss: 0.1339 - val_acc: 0.9692\n",
            "Epoch 9/10\n",
            "48000/48000 [==============================] - 16s 326us/step - loss: 0.0239 - acc: 0.9926 - val_loss: 0.1188 - val_acc: 0.9735\n",
            "Epoch 10/10\n",
            "48000/48000 [==============================] - 15s 319us/step - loss: 0.0209 - acc: 0.9935 - val_loss: 0.1292 - val_acc: 0.9706\n"
          ],
          "name": "stdout"
        }
      ]
    },
    {
      "metadata": {
        "id": "3vlosEbANbop",
        "colab_type": "code",
        "outputId": "2203825f-f0b2-42d3-9683-98f25d52863e",
        "colab": {
          "base_uri": "https://localhost:8080/",
          "height": 721
        }
      },
      "cell_type": "code",
      "source": [
        "history.history"
      ],
      "execution_count": 67,
      "outputs": [
        {
          "output_type": "execute_result",
          "data": {
            "text/plain": [
              "{'acc': [0.9320625,\n",
              "  0.97075,\n",
              "  0.98,\n",
              "  0.9845625,\n",
              "  0.9866041666666666,\n",
              "  0.9886458333333333,\n",
              "  0.9906458333333333,\n",
              "  0.9926666666666667,\n",
              "  0.9925625,\n",
              "  0.9934791666666667],\n",
              " 'loss': [0.22299765977511804,\n",
              "  0.09461666771466844,\n",
              "  0.06372009898074127,\n",
              "  0.05059423028879974,\n",
              "  0.04118871412786514,\n",
              "  0.03459473480835246,\n",
              "  0.029308947538149367,\n",
              "  0.023895755202085638,\n",
              "  0.023942423896133276,\n",
              "  0.020946798643278954],\n",
              " 'val_acc': [0.9585,\n",
              "  0.9728333333333333,\n",
              "  0.97175,\n",
              "  0.9758333333333333,\n",
              "  0.97625,\n",
              "  0.9723333333333334,\n",
              "  0.9751666666666666,\n",
              "  0.9691666666666666,\n",
              "  0.9735,\n",
              "  0.9705833333333334],\n",
              " 'val_loss': [0.13774931139374771,\n",
              "  0.09329332194911936,\n",
              "  0.10211209339392371,\n",
              "  0.0962825751803272,\n",
              "  0.08984303264440678,\n",
              "  0.1091004923517321,\n",
              "  0.0997729944322491,\n",
              "  0.13390334585475103,\n",
              "  0.11877105436193779,\n",
              "  0.12916024736118925]}"
            ]
          },
          "metadata": {
            "tags": []
          },
          "execution_count": 67
        }
      ]
    },
    {
      "metadata": {
        "id": "NFCyZyJnRDCH",
        "colab_type": "code",
        "outputId": "0a63107d-06e6-4d88-86bc-9230ddc9ff16",
        "colab": {
          "base_uri": "https://localhost:8080/",
          "height": 52
        }
      },
      "cell_type": "code",
      "source": [
        "model.evaluate(X_test, y_test)"
      ],
      "execution_count": 68,
      "outputs": [
        {
          "output_type": "stream",
          "text": [
            "10000/10000 [==============================] - 1s 58us/step\n"
          ],
          "name": "stdout"
        },
        {
          "output_type": "execute_result",
          "data": {
            "text/plain": [
              "[0.12340905636243915, 0.9705]"
            ]
          },
          "metadata": {
            "tags": []
          },
          "execution_count": 68
        }
      ]
    },
    {
      "metadata": {
        "id": "q7zhESNPQFyo",
        "colab_type": "text"
      },
      "cell_type": "markdown",
      "source": [
        "## Plotting the training and validation accuracy"
      ]
    },
    {
      "metadata": {
        "id": "VUyLMntkPRJM",
        "colab_type": "code",
        "outputId": "ca52eba1-3cfa-4073-8c1f-f257ff360635",
        "colab": {
          "base_uri": "https://localhost:8080/",
          "height": 361
        }
      },
      "cell_type": "code",
      "source": [
        "plt.plot(range(10), history.history['acc'])\n",
        "plt.plot(range(10), history.history['val_acc'], color = 'orange', alpha = 0.6)\n",
        "plt.xlabel('Epoch')\n",
        "plt.show()"
      ],
      "execution_count": 69,
      "outputs": [
        {
          "output_type": "display_data",
          "data": {
            "image/png": "[encoded data removed]",
            "text/plain": [
              "<Figure size 576x396 with 1 Axes>"
            ]
          },
          "metadata": {
            "tags": []
          }
        }
      ]
    },
    {
      "metadata": {
        "id": "uUKmm_zEP-Oc",
        "colab_type": "code",
        "colab": {}
      },
      "cell_type": "code",
      "source": [
        ""
      ],
      "execution_count": 0,
      "outputs": []
    },
    {
      "metadata": {
        "id": "uztdrwXePrWL",
        "colab_type": "code",
        "colab": {}
      },
      "cell_type": "code",
      "source": [
        ""
      ],
      "execution_count": 0,
      "outputs": []
    }
  ]
}